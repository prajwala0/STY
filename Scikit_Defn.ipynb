{
 "cells": [
  {
   "cell_type": "markdown",
   "id": "8e1de037",
   "metadata": {},
   "source": [
    "# Scikit Learn"
   ]
  },
  {
   "cell_type": "markdown",
   "id": "72747b27",
   "metadata": {},
   "source": [
    "* Scikit-learn is an open source machine learning library that supports supervised and unsupervised learning. It also provides various tools for model fitting, data preprocessing, model selection, model evaluation, and many other utilities.\n",
    "\n",
    "* Scikit-learn provides dozens of built-in machine learning algorithms and models, called estimators. Each estimator can be fitted to some data using its fit method.\n",
    "\n",
    "* This library, which is largely written in Python, is built upon NumPy, SciPy and Matplotlib."
   ]
  },
  {
   "cell_type": "markdown",
   "id": "17e4f5ab",
   "metadata": {},
   "source": [
    "            from sklearn.linear_model import LinearRegression\n",
    "            reg = LinearRegression().fit(X, y)\n",
    "\n",
    "            from sklearn.model_selection import train_test_split    \n",
    "            X_train, X_test, y_train, y_test = train_test_split(X, y, test_size=0.3)"
   ]
  },
  {
   "cell_type": "markdown",
   "id": "1f31c5f2",
   "metadata": {},
   "source": [
    "# Scikit Image"
   ]
  },
  {
   "cell_type": "markdown",
   "id": "1ccdfc85",
   "metadata": {},
   "source": [
    "Scikit-image is an image processing Python package that works with NumPy arrays which is a collection of algorithms for image processing."
   ]
  },
  {
   "cell_type": "markdown",
   "id": "eb501554",
   "metadata": {},
   "source": [
    "#### Important features of scikit-image : \n",
    "\n",
    "    It is an open source Python package designed for image preprocessing.\n",
    "    It has simple and efficient tools for image processing and computer vision techniques. \n",
    "    It is built on the top of NumPy, SciPy, and matplotlib.\n",
    "\n",
    "#### Applications : \n",
    "\n",
    "    Analysis of Medical images.\n",
    "    Classification of images for detection."
   ]
  },
  {
   "cell_type": "markdown",
   "id": "ccf70dd3",
   "metadata": {},
   "source": [
    "#### Here is the list of all the sub-modules and functions within the skimage package:\n",
    "    \n",
    "    1. Reading Images in Python using skimage\n",
    "    2. Changing Image Format\n",
    "    3. Resizing Images using skimage\n",
    "    4. Rescaling (Upscale/Downscale) Images using skimage\n",
    "    5. Rotate an Image by Different Angles using skimage\n",
    "    6. Flip Images Horizontally and Vertically\n",
    "    7. Crop Images\n",
    "    8. Altering Image Brightness using skimage\n",
    "    9. Using Filters in skimage\n",
    "    10. There are other things we can do using skimage, such as extracting the edges from an image, or adding noise to an image, among other things."
   ]
  },
  {
   "cell_type": "markdown",
   "id": "93e6965c",
   "metadata": {},
   "source": [
    "# Scipy"
   ]
  },
  {
   "cell_type": "markdown",
   "id": "b3f12a11",
   "metadata": {},
   "source": [
    "* The scipy is a data-processing and system-prototyping environment as similar to MATLAB. It is easy to use and provides great flexibility to scientists and engineers.\n",
    "\n",
    "* The SciPy is an open-source scientific library of Python that is distributed under a BSD license. \n",
    "\n",
    "* SciPy is predominantly written in Python, but a few segments are written in C.\n",
    "\n",
    "* It is used to solve the complex scientific and mathematical problems. \n",
    "\n",
    "* It is built on top of the Numpy extension, which means if we import the SciPy, there is no need to import Numpy. \n",
    "\n",
    "* It provides many user-friendly and effective numerical functions for numerical integration and optimization.\n",
    "\n",
    "* SciPy contain significant mathematical algorithms that provide easiness to develop sophisticated and dedicated applications. "
   ]
  },
  {
   "cell_type": "markdown",
   "id": "2086d014",
   "metadata": {},
   "source": [
    "#### Numpy vs. SciPy\n",
    "\n",
    "Numpy and SciPy both are used for mathematical and numerical analysis. Numpy is suitable for basic operations such as sorting, indexing and many more because it contains array data, whereas SciPy consists of all the numeric data.\n",
    "\n",
    "Numpy contains many functions that are used to resolve the linear algebra, Fourier transforms, etc. whereas SciPy library contains full featured version of the linear algebra module as well many other numerical algorithms."
   ]
  },
  {
   "cell_type": "markdown",
   "id": "1ccf944f",
   "metadata": {},
   "source": [
    "----------------"
   ]
  },
  {
   "cell_type": "code",
   "execution_count": null,
   "id": "1327a242",
   "metadata": {},
   "outputs": [],
   "source": []
  }
 ],
 "metadata": {
  "kernelspec": {
   "display_name": "Python 3",
   "language": "python",
   "name": "python3"
  },
  "language_info": {
   "codemirror_mode": {
    "name": "ipython",
    "version": 3
   },
   "file_extension": ".py",
   "mimetype": "text/x-python",
   "name": "python",
   "nbconvert_exporter": "python",
   "pygments_lexer": "ipython3",
   "version": "3.8.8"
  }
 },
 "nbformat": 4,
 "nbformat_minor": 5
}
