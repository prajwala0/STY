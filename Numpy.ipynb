{
 "cells": [
  {
   "cell_type": "markdown",
   "id": "f12345f9",
   "metadata": {},
   "source": [
    "#### importing numpy libraby"
   ]
  },
  {
   "cell_type": "code",
   "execution_count": 1,
   "id": "662e2e6c",
   "metadata": {},
   "outputs": [],
   "source": [
    "import numpy as np"
   ]
  },
  {
   "cell_type": "markdown",
   "id": "3cbc4bc4",
   "metadata": {},
   "source": [
    "#### 2D matrix"
   ]
  },
  {
   "cell_type": "code",
   "execution_count": 2,
   "id": "73e118e9",
   "metadata": {},
   "outputs": [
    {
     "name": "stdout",
     "output_type": "stream",
     "text": [
      "[[1 2 3]\n",
      " [4 5 6]]\n",
      "no of dimensions :  2\n",
      "shape of array :    (2, 3)\n"
     ]
    }
   ],
   "source": [
    "a = np.array([[1,2,3],[4,5,6]])\n",
    "print(a)\n",
    "print('no of dimensions : ',a.ndim)\n",
    "print('shape of array :   ',a.shape)"
   ]
  },
  {
   "cell_type": "markdown",
   "id": "9575fa4d",
   "metadata": {},
   "source": [
    "#### 3D matrix"
   ]
  },
  {
   "cell_type": "code",
   "execution_count": 3,
   "id": "8a6402c4",
   "metadata": {},
   "outputs": [
    {
     "name": "stdout",
     "output_type": "stream",
     "text": [
      "[[[ 1  2  3]\n",
      "  [ 4  5  6]]\n",
      "\n",
      " [[ 7  8  9]\n",
      "  [10 11 12]]]\n",
      "\n",
      "no of dimensions :   3\n",
      "shape of array :     (2, 2, 3)\n",
      "size of array :      12\n",
      "datatype of array :  int32\n"
     ]
    }
   ],
   "source": [
    "a = np.array([[[1,2,3],[4,5,6]],[[7,8,9],[10,11,12]]])\n",
    "print(a)\n",
    "print()\n",
    "print('no of dimensions :  ',a.ndim)\n",
    "print('shape of array :    ',a.shape)\n",
    "print('size of array :     ',a.size)\n",
    "print('datatype of array : ',a.dtype)"
   ]
  },
  {
   "cell_type": "markdown",
   "id": "13b2c6ac",
   "metadata": {},
   "source": [
    "#### Generating Zeros"
   ]
  },
  {
   "cell_type": "code",
   "execution_count": 4,
   "id": "eca2d23f",
   "metadata": {},
   "outputs": [
    {
     "data": {
      "text/plain": [
       "array([[0., 0., 0., 0., 0.],\n",
       "       [0., 0., 0., 0., 0.],\n",
       "       [0., 0., 0., 0., 0.]])"
      ]
     },
     "execution_count": 4,
     "metadata": {},
     "output_type": "execute_result"
    }
   ],
   "source": [
    "a = np.zeros((3,5))\n",
    "a"
   ]
  },
  {
   "cell_type": "markdown",
   "id": "2d330697",
   "metadata": {},
   "source": [
    "#### linspace"
   ]
  },
  {
   "cell_type": "code",
   "execution_count": 5,
   "id": "7e159a89",
   "metadata": {},
   "outputs": [
    {
     "data": {
      "text/plain": [
       "array([0. , 0.2, 0.4, 0.6, 0.8, 1. ])"
      ]
     },
     "execution_count": 5,
     "metadata": {},
     "output_type": "execute_result"
    }
   ],
   "source": [
    "a = np.linspace(0,1,6)\n",
    "a"
   ]
  },
  {
   "cell_type": "code",
   "execution_count": 6,
   "id": "88086a1d",
   "metadata": {},
   "outputs": [
    {
     "data": {
      "text/plain": [
       "array([0.        , 0.02040816, 0.04081633, 0.06122449, 0.08163265,\n",
       "       0.10204082, 0.12244898, 0.14285714, 0.16326531, 0.18367347,\n",
       "       0.20408163, 0.2244898 , 0.24489796, 0.26530612, 0.28571429,\n",
       "       0.30612245, 0.32653061, 0.34693878, 0.36734694, 0.3877551 ,\n",
       "       0.40816327, 0.42857143, 0.44897959, 0.46938776, 0.48979592,\n",
       "       0.51020408, 0.53061224, 0.55102041, 0.57142857, 0.59183673,\n",
       "       0.6122449 , 0.63265306, 0.65306122, 0.67346939, 0.69387755,\n",
       "       0.71428571, 0.73469388, 0.75510204, 0.7755102 , 0.79591837,\n",
       "       0.81632653, 0.83673469, 0.85714286, 0.87755102, 0.89795918,\n",
       "       0.91836735, 0.93877551, 0.95918367, 0.97959184, 1.        ])"
      ]
     },
     "execution_count": 6,
     "metadata": {},
     "output_type": "execute_result"
    }
   ],
   "source": [
    "a = np.linspace(0,1)\n",
    "a"
   ]
  },
  {
   "cell_type": "markdown",
   "id": "3e11e350",
   "metadata": {},
   "source": [
    "#### Identity Matrix"
   ]
  },
  {
   "cell_type": "code",
   "execution_count": 7,
   "id": "92ac785b",
   "metadata": {},
   "outputs": [
    {
     "data": {
      "text/plain": [
       "array([[1., 0., 0.],\n",
       "       [0., 1., 0.],\n",
       "       [0., 0., 1.]])"
      ]
     },
     "execution_count": 7,
     "metadata": {},
     "output_type": "execute_result"
    }
   ],
   "source": [
    "a = np.eye(3)\n",
    "a"
   ]
  },
  {
   "cell_type": "markdown",
   "id": "99641922",
   "metadata": {},
   "source": [
    "#### Diagonal Matrix"
   ]
  },
  {
   "cell_type": "code",
   "execution_count": 8,
   "id": "e76732f5",
   "metadata": {},
   "outputs": [
    {
     "data": {
      "text/plain": [
       "array([[1, 0, 0, 0],\n",
       "       [0, 2, 0, 0],\n",
       "       [0, 0, 3, 0],\n",
       "       [0, 0, 0, 4]])"
      ]
     },
     "execution_count": 8,
     "metadata": {},
     "output_type": "execute_result"
    }
   ],
   "source": [
    "a = np.diag([1,2,3,4]) \n",
    "a"
   ]
  },
  {
   "cell_type": "markdown",
   "id": "f4c2c79e",
   "metadata": {},
   "source": [
    "#### Generate random numbers"
   ]
  },
  {
   "cell_type": "code",
   "execution_count": 9,
   "id": "47ee19f1",
   "metadata": {},
   "outputs": [
    {
     "data": {
      "text/plain": [
       "array([0.58702357, 0.10015616, 0.56425222, 0.46943609])"
      ]
     },
     "execution_count": 9,
     "metadata": {},
     "output_type": "execute_result"
    }
   ],
   "source": [
    "a = np.random.rand(4)\n",
    "a"
   ]
  },
  {
   "cell_type": "markdown",
   "id": "3769b6cb",
   "metadata": {},
   "source": [
    "range : 0-1\n",
    "Positive Number"
   ]
  },
  {
   "cell_type": "code",
   "execution_count": 10,
   "id": "93bfe19f",
   "metadata": {},
   "outputs": [
    {
     "data": {
      "text/plain": [
       "array([-0.17828516,  1.09116754,  1.2509531 , -0.01146326])"
      ]
     },
     "execution_count": 10,
     "metadata": {},
     "output_type": "execute_result"
    }
   ],
   "source": [
    "np.random.randn(4)"
   ]
  },
  {
   "cell_type": "markdown",
   "id": "f11cebbd",
   "metadata": {},
   "source": [
    "Whole Number"
   ]
  },
  {
   "cell_type": "code",
   "execution_count": 11,
   "id": "0785e820",
   "metadata": {},
   "outputs": [
    {
     "data": {
      "text/plain": [
       "array([7, 8, 0, 3, 7])"
      ]
     },
     "execution_count": 11,
     "metadata": {},
     "output_type": "execute_result"
    }
   ],
   "source": [
    "np.random.randint(low=0, high=9, size=5)"
   ]
  },
  {
   "cell_type": "markdown",
   "id": "d6febbdb",
   "metadata": {},
   "source": [
    "#### arange"
   ]
  },
  {
   "cell_type": "code",
   "execution_count": 12,
   "id": "c9e6de41",
   "metadata": {},
   "outputs": [
    {
     "data": {
      "text/plain": [
       "array([0, 1, 2, 3, 4])"
      ]
     },
     "execution_count": 12,
     "metadata": {},
     "output_type": "execute_result"
    }
   ],
   "source": [
    "a = np.arange(5)\n",
    "a"
   ]
  },
  {
   "cell_type": "code",
   "execution_count": 13,
   "id": "bab876dc",
   "metadata": {},
   "outputs": [
    {
     "data": {
      "text/plain": [
       "array([0., 1., 2., 3., 4.])"
      ]
     },
     "execution_count": 13,
     "metadata": {},
     "output_type": "execute_result"
    }
   ],
   "source": [
    "a = np.arange(5, dtype='float64')\n",
    "a"
   ]
  },
  {
   "cell_type": "markdown",
   "id": "866c8f9a",
   "metadata": {},
   "source": [
    "#### Slicing"
   ]
  },
  {
   "cell_type": "code",
   "execution_count": 14,
   "id": "e12ed3f2",
   "metadata": {},
   "outputs": [
    {
     "name": "stdout",
     "output_type": "stream",
     "text": [
      "x[:4]  :   [0, 1, 2, 3]\n",
      "x[4:]  :   [4, 5, 6, 7, 8, 9, 10]\n",
      "x[3:8] :   [3, 4, 5, 6, 7]\n"
     ]
    }
   ],
   "source": [
    "x = [0,1,2,3,4,5,6,7,8,9,10]\n",
    "print('x[:4]  :  ',x[:4])\n",
    "print('x[4:]  :  ',x[4:])\n",
    "print('x[3:8] :  ',x[3:8])"
   ]
  },
  {
   "cell_type": "markdown",
   "id": "f22e6072",
   "metadata": {},
   "source": [
    "#### Complex numbers"
   ]
  },
  {
   "cell_type": "code",
   "execution_count": 15,
   "id": "e8b337e0",
   "metadata": {},
   "outputs": [
    {
     "name": "stdout",
     "output_type": "stream",
     "text": [
      "[1.+2.j 3.+5.j]\n",
      "type(a) :  <class 'numpy.ndarray'>\n",
      "a.dtype :  complex128\n"
     ]
    }
   ],
   "source": [
    "a = np.array([1+2j, 3+5j])\n",
    "print(a)\n",
    "print('type(a) : ',type(a))\n",
    "print('a.dtype : ',a.dtype)"
   ]
  },
  {
   "cell_type": "markdown",
   "id": "2f70960e",
   "metadata": {},
   "source": [
    "#### Sum"
   ]
  },
  {
   "cell_type": "code",
   "execution_count": 16,
   "id": "cff123dd",
   "metadata": {},
   "outputs": [
    {
     "name": "stdout",
     "output_type": "stream",
     "text": [
      "[[1 1]\n",
      " [2 2]]\n",
      "sum on columns  :   [3 3]\n",
      "sum on rows  :   [2 4]\n"
     ]
    }
   ],
   "source": [
    "y = np.array([[1,1],[2,2]])\n",
    "print(y)\n",
    "\n",
    "#sum on columns\n",
    "s = y.sum(axis=0)\n",
    "print('sum on columns  :  ',s)\n",
    "\n",
    "#sum on rows\n",
    "s = y.sum(axis=1)\n",
    "print('sum on rows  :  ',s)"
   ]
  },
  {
   "cell_type": "markdown",
   "id": "3357d72a",
   "metadata": {},
   "source": [
    "#### min, max"
   ]
  },
  {
   "cell_type": "code",
   "execution_count": 17,
   "id": "ada7368a",
   "metadata": {},
   "outputs": [
    {
     "name": "stdout",
     "output_type": "stream",
     "text": [
      "[2 3 4 1 5]\n",
      "max of x  :   5\n",
      "index of max of x  :   4\n",
      "min of x  :   1\n",
      "index of min of x  :   3\n"
     ]
    }
   ],
   "source": [
    "x = np.array([2,3,4,1,5])\n",
    "\n",
    "print(x)\n",
    "print('max of x  :  ', x.max())\n",
    "print('index of max of x  :  ', x.argmax())\n",
    "print('min of x  :  ', x.min())\n",
    "print('index of min of x  :  ', x.argmin())"
   ]
  },
  {
   "cell_type": "markdown",
   "id": "60a625bd",
   "metadata": {},
   "source": [
    "### median"
   ]
  },
  {
   "cell_type": "code",
   "execution_count": 18,
   "id": "d774a04a",
   "metadata": {},
   "outputs": [
    {
     "data": {
      "text/plain": [
       "3.0"
      ]
     },
     "execution_count": 18,
     "metadata": {},
     "output_type": "execute_result"
    }
   ],
   "source": [
    "np.median(x)"
   ]
  },
  {
   "cell_type": "markdown",
   "id": "efa1d4ca",
   "metadata": {},
   "source": [
    "## Working with dataset"
   ]
  },
  {
   "cell_type": "markdown",
   "id": "9b4b7543",
   "metadata": {},
   "source": [
    "### loading dataset"
   ]
  },
  {
   "cell_type": "code",
   "execution_count": null,
   "id": "f3f6d206",
   "metadata": {},
   "outputs": [],
   "source": [
    "import csv\n",
    "data = np.loadtxt(path)"
   ]
  },
  {
   "cell_type": "code",
   "execution_count": 19,
   "id": "dfc63abe",
   "metadata": {},
   "outputs": [],
   "source": [
    "data = np.array([[ 7.4 , 0.7 , 0.2 ,0.56 , 9.4 , 5. ],\n",
    "[ 7.8 , 0.88 , 0. , 0.68 , 9.8 , 5. ],\n",
    "[ 7.8 , 0.76 , 0.04 , 0.65 , 9.8 , 5. ],\n",
    "[ 6.3 , 0.51 , 0.13 , 0.75 , 11. , 6. ],\n",
    "[ 5.9 , 0.645, 0.12 ,0.71 , 10.2 , 5. ],\n",
    "[ 6. , 0.31 , 0.47 , 0.66 , 11. , 6. ]])"
   ]
  },
  {
   "cell_type": "code",
   "execution_count": 20,
   "id": "203310d6",
   "metadata": {},
   "outputs": [
    {
     "data": {
      "text/plain": [
       "array([[ 7.4  ,  0.7  ,  0.2  ,  0.56 ,  9.4  ,  5.   ],\n",
       "       [ 7.8  ,  0.88 ,  0.   ,  0.68 ,  9.8  ,  5.   ],\n",
       "       [ 7.8  ,  0.76 ,  0.04 ,  0.65 ,  9.8  ,  5.   ],\n",
       "       [ 6.3  ,  0.51 ,  0.13 ,  0.75 , 11.   ,  6.   ],\n",
       "       [ 5.9  ,  0.645,  0.12 ,  0.71 , 10.2  ,  5.   ],\n",
       "       [ 6.   ,  0.31 ,  0.47 ,  0.66 , 11.   ,  6.   ]])"
      ]
     },
     "execution_count": 20,
     "metadata": {},
     "output_type": "execute_result"
    }
   ],
   "source": [
    "data"
   ]
  },
  {
   "cell_type": "code",
   "execution_count": 21,
   "id": "c4351de7",
   "metadata": {},
   "outputs": [
    {
     "name": "stdout",
     "output_type": "stream",
     "text": [
      "(6, 6)\n",
      "2\n"
     ]
    }
   ],
   "source": [
    "print(data.shape)\n",
    "print(data.ndim)"
   ]
  },
  {
   "cell_type": "markdown",
   "id": "5d163b4f",
   "metadata": {},
   "source": [
    "### slicing dataset"
   ]
  },
  {
   "cell_type": "code",
   "execution_count": 22,
   "id": "57284e66",
   "metadata": {},
   "outputs": [
    {
     "data": {
      "text/plain": [
       "array([[ 7.4  ,  0.7  ,  0.2  ,  0.56 ,  9.4  ,  5.   ],\n",
       "       [ 7.8  ,  0.88 ,  0.   ,  0.68 ,  9.8  ,  5.   ],\n",
       "       [ 7.8  ,  0.76 ,  0.04 ,  0.65 ,  9.8  ,  5.   ],\n",
       "       [ 6.3  ,  0.51 ,  0.13 ,  0.75 , 11.   ,  6.   ],\n",
       "       [ 5.9  ,  0.645,  0.12 ,  0.71 , 10.2  ,  5.   ],\n",
       "       [ 6.   ,  0.31 ,  0.47 ,  0.66 , 11.   ,  6.   ]])"
      ]
     },
     "execution_count": 22,
     "metadata": {},
     "output_type": "execute_result"
    }
   ],
   "source": [
    "data1 = data[:,:]\n",
    "data1"
   ]
  },
  {
   "cell_type": "code",
   "execution_count": 23,
   "id": "6baa02dc",
   "metadata": {},
   "outputs": [
    {
     "data": {
      "text/plain": [
       "array([[7.4  , 0.7  ],\n",
       "       [7.8  , 0.88 ],\n",
       "       [7.8  , 0.76 ],\n",
       "       [6.3  , 0.51 ],\n",
       "       [5.9  , 0.645],\n",
       "       [6.   , 0.31 ]])"
      ]
     },
     "execution_count": 23,
     "metadata": {},
     "output_type": "execute_result"
    }
   ],
   "source": [
    "data2 = data[:,:2]  # upto 2 columns\n",
    "data2"
   ]
  },
  {
   "cell_type": "code",
   "execution_count": 24,
   "id": "ba608539",
   "metadata": {},
   "outputs": [
    {
     "data": {
      "text/plain": [
       "array([[ 0.7  ,  0.2  ,  0.56 ,  9.4  ,  5.   ],\n",
       "       [ 0.88 ,  0.   ,  0.68 ,  9.8  ,  5.   ],\n",
       "       [ 0.76 ,  0.04 ,  0.65 ,  9.8  ,  5.   ],\n",
       "       [ 0.51 ,  0.13 ,  0.75 , 11.   ,  6.   ],\n",
       "       [ 0.645,  0.12 ,  0.71 , 10.2  ,  5.   ],\n",
       "       [ 0.31 ,  0.47 ,  0.66 , 11.   ,  6.   ]])"
      ]
     },
     "execution_count": 24,
     "metadata": {},
     "output_type": "execute_result"
    }
   ],
   "source": [
    "data3 = data[:,1:]  # skip first column\n",
    "data3"
   ]
  },
  {
   "cell_type": "code",
   "execution_count": 25,
   "id": "ea81f73b",
   "metadata": {},
   "outputs": [
    {
     "data": {
      "text/plain": [
       "array([[7.4 , 0.7 , 0.2 , 0.56, 9.4 , 5.  ],\n",
       "       [7.8 , 0.88, 0.  , 0.68, 9.8 , 5.  ],\n",
       "       [7.8 , 0.76, 0.04, 0.65, 9.8 , 5.  ]])"
      ]
     },
     "execution_count": 25,
     "metadata": {},
     "output_type": "execute_result"
    }
   ],
   "source": [
    "data4 = data[:3,:]  # upto first 3 rows \n",
    "data4"
   ]
  },
  {
   "cell_type": "code",
   "execution_count": 26,
   "id": "5c368375",
   "metadata": {},
   "outputs": [
    {
     "data": {
      "text/plain": [
       "array([[ 6.  ,  0.31,  0.47,  0.66, 11.  ,  6.  ]])"
      ]
     },
     "execution_count": 26,
     "metadata": {},
     "output_type": "execute_result"
    }
   ],
   "source": [
    "data5 = data[5:,:]  # skip first 5 rows\n",
    "data5"
   ]
  },
  {
   "cell_type": "markdown",
   "id": "eb34a38e",
   "metadata": {},
   "source": [
    "### timeit"
   ]
  },
  {
   "cell_type": "markdown",
   "id": "c8c52d93",
   "metadata": {},
   "source": [
    "To calculate exact execution time we use timeit method"
   ]
  },
  {
   "cell_type": "code",
   "execution_count": 27,
   "id": "3545ef0c",
   "metadata": {},
   "outputs": [
    {
     "name": "stdout",
     "output_type": "stream",
     "text": [
      "223 µs ± 3.87 µs per loop (mean ± std. dev. of 7 runs, 1000 loops each)\n"
     ]
    }
   ],
   "source": [
    "L = range(1000)\n",
    "%timeit  [i**2 for i in L]"
   ]
  },
  {
   "cell_type": "code",
   "execution_count": 28,
   "id": "c5d81c98",
   "metadata": {},
   "outputs": [
    {
     "name": "stdout",
     "output_type": "stream",
     "text": [
      "1.5 µs ± 20.9 ns per loop (mean ± std. dev. of 7 runs, 1000000 loops each)\n"
     ]
    }
   ],
   "source": [
    "a = np.arange(1000)\n",
    "%timeit a**2"
   ]
  },
  {
   "cell_type": "markdown",
   "id": "120d474c",
   "metadata": {},
   "source": [
    "numpy method taking less time compare to list comprehension"
   ]
  },
  {
   "cell_type": "code",
   "execution_count": null,
   "id": "6b9fe426",
   "metadata": {},
   "outputs": [],
   "source": []
  }
 ],
 "metadata": {
  "kernelspec": {
   "display_name": "Python 3",
   "language": "python",
   "name": "python3"
  },
  "language_info": {
   "codemirror_mode": {
    "name": "ipython",
    "version": 3
   },
   "file_extension": ".py",
   "mimetype": "text/x-python",
   "name": "python",
   "nbconvert_exporter": "python",
   "pygments_lexer": "ipython3",
   "version": "3.8.8"
  }
 },
 "nbformat": 4,
 "nbformat_minor": 5
}
